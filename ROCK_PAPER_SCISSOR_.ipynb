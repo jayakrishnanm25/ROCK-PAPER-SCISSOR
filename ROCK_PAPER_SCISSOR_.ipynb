{
 "cells": [
  {
   "cell_type": "code",
   "execution_count": 1,
   "id": "665535c3-7f01-4290-8568-068c89999784",
   "metadata": {},
   "outputs": [
    {
     "name": "stdin",
     "output_type": "stream",
     "text": [
      "Enter r | p | s p\n"
     ]
    },
    {
     "name": "stdout",
     "output_type": "stream",
     "text": [
      "You fail\n",
      "paper\n"
     ]
    }
   ],
   "source": [
    "import random\n",
    "\n",
    "choice = [\"rock\", 'paper', \"scissor\"]\n",
    "\n",
    "computer = random.choice(choice)\n",
    "user = False\n",
    "\n",
    "\n",
    "def rps_input():\n",
    "    user = input(\"Enter r | p | s\")\n",
    "    if user == computer:\n",
    "        return \"Tie\"\n",
    "\n",
    "\n",
    "def rps(player1, player2):\n",
    "    rps_input()\n",
    "    if (player1 == 'r' and player2 == 's'):\n",
    "        return 'Rock crushes scissor!'\n",
    "    elif player1 == 's' and player2 == 'p':\n",
    "        return 'Scissor cut paper!'\n",
    "    elif player1 == 'p' and player2 == 'r':\n",
    "        return \"Paper covers rock\"\n",
    "    else:\n",
    "        return 'You fail'\n",
    "\n",
    "\n",
    "print(rps(user, computer))\n",
    "print(computer)"
   ]
  },
  {
   "cell_type": "code",
   "execution_count": null,
   "id": "a8b96957-fbed-41a4-8174-5093bdd76173",
   "metadata": {},
   "outputs": [],
   "source": []
  }
 ],
 "metadata": {
  "kernelspec": {
   "display_name": "Python 3 (ipykernel)",
   "language": "python",
   "name": "python3"
  },
  "language_info": {
   "codemirror_mode": {
    "name": "ipython",
    "version": 3
   },
   "file_extension": ".py",
   "mimetype": "text/x-python",
   "name": "python",
   "nbconvert_exporter": "python",
   "pygments_lexer": "ipython3",
   "version": "3.12.7"
  }
 },
 "nbformat": 4,
 "nbformat_minor": 5
}
